from sklearn import datasets, model_selection
import numpy as np
from scipy.sparse import hstack, csr_matrix

def data_loader(file):
    X, Y = datasets.load_svmlight_file(file)
    one = np.ones((X.shape[0], 1))
    X = hstack([X, csr_matrix(one)]).toarray()
    Y = np.array(Y).reshape(X.shape[0], 1)
    return X, Y

def train(X_train, Y_train, theta, learning_rate, C=1):
    index = (1 - Y_train * X_train.dot(theta) < 0)
    y = Y_train.copy()
    y[index] = 0

    epsilon_gredient = -np.dot(X_train.transpose(), y)  #?
    gredient = theta + C * epsilon_gredient
    theta -= learning_rate * gredient
    return theta


def loss_function(X, Y, theta, C=1):
    epsilon_loss = 1 - Y * X.dot(theta)
    epsilon_loss[epsilon_loss < 0] = 0 #
    loss = 0.5 * np.dot(theta.transpose(), theta).sum() + C * epsilon_loss.sum()
    return loss / X.shape[0]


def Accuracy(X, y, theta, threshold=0):
    y_prediction = X.dot(theta)
    y_prediction[y_prediction < threshold] = -1
    y_prediction[y_prediction >= threshold] = 1

    classification = y * y_prediction
    classification[classification == -1] = 0
    accuracy = classification.sum() / classification.shape[0]
    return accuracy


def plot_loss(train_loss, test_loss, test_accuracy):#����loss������accuracy
    import matplotlib.pyplot as plt
    plt.figure(1)
    plt.xlabel('Epoch')
    plt.ylabel('Loss')
    plt.plot(train_loss, label="train_loss")
    plt.plot(test_loss, label="test_loss")
    plt.legend(loc='upper right')

    plt.figure(2)
    plt.xlabel('Epoch')
    plt.ylabel('Accuracy')
    plt.plot(test_accuracy)
    plt.show()


if __name__ == "__main__":
    learning_rate = 0.00001
    C = 1
    epoch = 1000
    threshold = 0

    X, Y = data_loader("Desktop./Australian.txt")
    X_train, X_test, Y_train, Y_test = model_selection.train_test_split(X, Y, test_size=0.33, random_state=42)
    theta = np.random.random((X.shape[1], 1))
    train_loss = []
    test_loss = []
    test_accuracy = []
    for episode in range(epoch):
        theta = train(X_train, Y_train, theta, learning_rate, C)

        loss = loss_function(X_train, Y_train, theta, C)
        train_loss+=[loss]

        loss = loss_function(X_test, Y_test, theta, C)
        test_loss+=[loss]
        accuracy = Accuracy(X_test, Y_test, theta, threshold)
        test_accuracy.append(accuracy)
    plot_loss(train_loss, test_loss, test_accuracy)