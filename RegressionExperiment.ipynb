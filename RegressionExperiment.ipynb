import numpy as np
import matplotlib.pyplot as plt
from sklearn import datasets
from scipy.sparse import csr_matrix, hstack
from sklearn.model_selection import train_test_split


def train(X_train, Y_train, theta, epoch=1000):
    Loss1=[]
    T1=[]
    for t in range(epoch):
        gradient = np.dot(X_train.transpose(), X_train.dot(theta) - Y_train ) # np��dot���վ���˷��Ĺ���������
        theta -= learning_rate * gradient
        T1+=[t]
        Y_prediction = X_train.dot(theta)
        loss = 0.5/253* np.dot((Y_train - Y_prediction).transpose(), (Y_train - Y_prediction) ).sum()
        print(loss)
        Loss1+=[loss]
    return theta,T1,Loss1

def test(X_test,Y_test,theta,epoch=1000):
  Loss = []
  T = []
  for t in range(epoch):
    gradient = np.dot(X_train.transpose(), X_train.dot(theta) - Y_train)  # np��dot���վ���˷��Ĺ���������
    theta -= learning_rate * gradient
    T += [t]
    Y_prediction = X_train.dot(theta)
    loss = 0.5 / 253 * np.dot((Y_train - Y_prediction).transpose(), (Y_train - Y_prediction)).sum()
    print(loss)
    Loss += [loss]
  return T,Loss


if __name__ =="__main__":
   #�����Ƕ�ȡ�ļ��ͷָ��ļ�
    X, Y = datasets.load_svmlight_file("Desktop./Housing.txt")
    X_train, X_test, Y_train, Y_test = train_test_split(X, Y, test_size=253, random_state=42)
    one = np.ones(253).reshape(253, 1)
    X_train = hstack([X_train, csr_matrix(one)]).todense()  #����һ�б��14��,25*14
    Y_train = np.array(Y_train).reshape(253, 1)
    X_test = hstack([X_test, csr_matrix(one)]).todense()
    Y_test = np.array(Y_test).reshape(253, 1)

    theta = np.zeros((X_train.shape[1], 1))  #��ʼ��Ϊ0
    learning_rate = 0.001
    print("������L_train:")
    theta,T1,Loss1=train(X_train, Y_train, theta)
    print("������L_validation:")
    T2,Loss2=test(X_test,Y_test,theta)
    #��ͼ
    plt.figure(1)
    plt.plot(T1, Loss1, 'b-')
    plt.title("L_train")
    plt.figure(2)
    plt.plot(T2, Loss2, 'green')
    plt.title("L_validation")
    plt.show()
        